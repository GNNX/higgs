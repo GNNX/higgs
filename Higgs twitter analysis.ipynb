{
 "cells": [
  {
   "cell_type": "markdown",
   "metadata": {},
   "source": [
    "## Higgs dataset experiment\n",
    "\n",
    "**Researcher: Kirell Benzi, Benjamin Ricaud, Pierre Vandergheynst**\n",
    "\n",
    "From the paper: [Principal Patterns on Graph]()\n",
    "\n",
    "The dataset is available at [SNAP](https://snap.stanford.edu/data/higgs-twitter.html)."
   ]
  },
  {
   "cell_type": "code",
   "execution_count": 15,
   "metadata": {
    "collapsed": false
   },
   "outputs": [
    {
     "name": "stdout",
     "output_type": "stream",
     "text": [
      "Data directory: /home/ubuntu/data/higgs/\n",
      "The autoreload extension is already loaded. To reload it, use:\n",
      "  %reload_ext autoreload\n"
     ]
    }
   ],
   "source": [
    "import os\n",
    "import time\n",
    "import numpy as np\n",
    "import scipy as sp\n",
    "import pandas as pd\n",
    "import networkx as nx\n",
    "import datetime as dt\n",
    "import itertools\n",
    "import operator\n",
    "import community\n",
    "import matplotlib as mpl\n",
    "import matplotlib.pyplot as plt\n",
    "from collections import Counter\n",
    "\n",
    "import IPython.utils.path\n",
    "DATA_DIR = os.path.join(IPython.utils.path.get_home_dir(), 'data/higgs/')\n",
    "print 'Data directory:', DATA_DIR\n",
    "dataset_name = 'higgs'\n",
    "\n",
    "\n",
    "# Install this from https://github.com/kikohs/sptgraph\n",
    "import sptgraph\n",
    "%load_ext autoreload\n",
    "%autoreload 2\n",
    "\n",
    "\n",
    "# Customize plot colors for dark backgrounds\n",
    "%matplotlib inline\n",
    "mpl.rcParams['axes.edgecolor'] = 'grey'\n",
    "mpl.rcParams['grid.color'] = '#66CCCC'\n",
    "mpl.rcParams['text.color'] = '#0EBFE9'\n",
    "mpl.rcParams['xtick.color'] = '#66CCCC'\n",
    "mpl.rcParams['ytick.color'] = '#66CCCC'\n",
    "mpl.rcParams['axes.labelcolor'] = '#0EBFE9'"
   ]
  },
  {
   "cell_type": "markdown",
   "metadata": {},
   "source": [
    "### Optionnal use bokeh to plot interactive components"
   ]
  },
  {
   "cell_type": "code",
   "execution_count": null,
   "metadata": {
    "collapsed": false
   },
   "outputs": [],
   "source": [
    "from bokeh.charts import Bar, show\n",
    "from bokeh.plotting import output_notebook\n",
    "output_notebook()"
   ]
  },
  {
   "cell_type": "code",
   "execution_count": null,
   "metadata": {
    "collapsed": true
   },
   "outputs": [],
   "source": [
    "def plot_spatial_spread_graph(comp):\n",
    "    nodes = sorted(comp.nodes(data=True), key=lambda x: x[1]['layer'])\n",
    "    group_hist = []\n",
    "    layers = []\n",
    "    for layer, n in itertools.groupby(nodes, key=lambda x: x[1]['layer']):\n",
    "        elems = list(n)\n",
    "        # Add timestamp instead of layer\n",
    "        # Bug in bokehJs, cannot use colons ...\n",
    "        t = elems[0][1]['timestamp'].strftime('%d-%m-%Y %H\\'%M\\'%S')\n",
    "        layers.append(t)\n",
    "        group_hist.append(len(elems))\n",
    "    \n",
    "    bar = Bar(np.array(group_hist), layers, title=\"Spatial spread of component \" + str(comp.name), stacked=False)\n",
    "    return bar"
   ]
  },
  {
   "cell_type": "markdown",
   "metadata": {},
   "source": [
    "### Helper functions"
   ]
  },
  {
   "cell_type": "code",
   "execution_count": 3,
   "metadata": {
    "collapsed": true
   },
   "outputs": [],
   "source": [
    "def round_df(df, freq, unit):\n",
    "    mul = 1\n",
    "    if unit == 'min':\n",
    "        mul = 60\n",
    "        unit = 'Min'\n",
    "\n",
    "    elif unit == 'hour':\n",
    "        mul = 60 * 60\n",
    "        unit = 'H'\n",
    "\n",
    "    elif unit == 'day':\n",
    "        mul = 60 * 60 * 24\n",
    "        unit = 'D'\n",
    "    else:\n",
    "        mul = 1\n",
    "        unit = 'S'\n",
    "\n",
    "    ns_min = freq * mul * 1000000000\n",
    "    idx = pd.DatetimeIndex(((df.index.astype(np.int64) // ns_min) * ns_min))\n",
    "    idx.name = df.index.name\n",
    "    df.index = idx\n",
    "    return df, unit\n",
    "\n",
    "\n",
    "def create_layers(df, freq, unit):\n",
    "    # Trick: use pandas resample to generate continuous indexes\n",
    "    dfR = df.resample(str(freq) + unit) \n",
    "    layer_map = dict(itertools.izip(dfR.index.astype(np.int64), itertools.count()))\n",
    "    df['layer'] = np.vectorize(lambda x: layer_map[x])(df.index.astype(np.int64))\n",
    "    # delta between layers (timedelta)\n",
    "    delta = dfR.index[1] - dfR.index[0]\n",
    "    return df, delta\n",
    "    \n",
    "    \n",
    "def create_layered_graph(input_df, freq=1, unit='min', action='RT', social_graph=None):\n",
    "        \n",
    "    h = nx.DiGraph()\n",
    "    h.name = 'Higgs layered ' + action + ' - ' + str(freq) + ' ' + unit\n",
    "    \n",
    "    df = input_df.copy()\n",
    "    if action != '' and action is not None:\n",
    "        df = df[df['action'] == action]\n",
    "    \n",
    "    df, unit = round_df(df, freq, unit)\n",
    "    df, delta_ts = create_layers(df, freq, unit)\n",
    "    # Maximum id in whole dataframe, min should not be 0\n",
    "    max_id = np.max(np.max(df[['src_id', 'tgt_id']]).values)\n",
    "    \n",
    "    for idx, row in df.iterrows():\n",
    "        base_src = row['src_id']\n",
    "        base_tgt = row['tgt_id']\n",
    "        layer = row['layer']\n",
    "        act = row['action']\n",
    "              \n",
    "        src = base_src + (layer * max_id)\n",
    "        tgt = base_tgt + ((layer + 1) * max_id)\n",
    "        \n",
    "        # Add nodes\n",
    "        h.add_node(src, {'base_id': base_src, 'layer': layer, 'timestamp': idx})\n",
    "        h.add_node(tgt, {'base_id': base_tgt, 'layer': layer + 1, 'timestamp': idx + delta_ts})\n",
    "        \n",
    "        # Add edge\n",
    "        e_d = {'action': act, 'timestamp': idx}\n",
    "        if social_graph is not None:\n",
    "            if social_graph.has_edge(base_src, base_tgt):\n",
    "                e_d['is_social'] = True\n",
    "            else:\n",
    "                e_d['is_social'] = False\n",
    "            \n",
    "        h.add_edge(src, tgt, e_d)\n",
    "        \n",
    "    return h, df\n",
    "\n",
    "\n",
    "def extract_components(h):\n",
    "    components = filter(lambda x: x.number_of_edges() >= 1 and x.number_of_nodes() >= 2, \n",
    "                    nx.weakly_connected_component_subgraphs(h))\n",
    "    res = []\n",
    "    for i, comp in enumerate(components):\n",
    "        comp.name = i\n",
    "        res.append({'component': comp})\n",
    "        \n",
    "    df = pd.DataFrame(res)\n",
    "    df.index.name = 'component_id'\n",
    "    return df\n",
    "\n",
    "\n",
    "def enrich_components(df, with_social=False):\n",
    "    \n",
    "    def get_period_span(c):\n",
    "        ts = sorted(nx.get_node_attributes(c, 'timestamp').values())\n",
    "        return (ts[0], ts[-1])\n",
    "    \n",
    "    def get_social_edge_ratio(c):\n",
    "        social_edges = sum(nx.get_edge_attributes(c, 'is_social').values())  # True == 1, False 0\n",
    "        return social_edges / float(c.number_of_edges())\n",
    "        \n",
    "    df['node_count'] = df['component'].apply(lambda x: x.number_of_nodes())\n",
    "    df['edge_count'] = df['component'].apply(lambda x: x.number_of_edges())\n",
    "    df['height'] = df['component'].apply(lambda x: len(np.unique(nx.get_node_attributes(x, 'base_id').values())))\n",
    "    df['width'] = df['component'].apply(lambda x: len(np.unique(nx.get_node_attributes(x, 'layer').values())))\n",
    "    period_series = df['component'].apply(get_period_span)\n",
    "    df['start'] = period_series.apply(lambda x: x[0])\n",
    "    df['end'] = period_series.apply(lambda x: x[1])\n",
    "    df['social_ratio'] = df['component'].apply(get_social_edge_ratio)\n",
    "    \n",
    "    return df.sort('node_count', ascending=False)\n",
    "\n",
    "\n",
    "def create_activated_components(input_df, freq=1, unit='min', action='RT', social_graph=None):\n",
    "    h, _ = create_layered_graph(input_df, freq, unit, action, social_graph)\n",
    "    comp_df = extract_components(h)\n",
    "    with_social = True if social_graph is not None else False\n",
    "    return enrich_components(comp_df, with_social)\n",
    "\n",
    "\n",
    "def create_graph_from_activity(activity_df, action='RT'):\n",
    "    g = nx.DiGraph()\n",
    "    df = activity_df[activity_df['action'] == action]\n",
    "    g.name = 'Higgs ' + action\n",
    "    for idx, d in df.iterrows():\n",
    "        src = d['src_id']\n",
    "        tgt = d['tgt_id']\n",
    "        if not g.has_edge(src, tgt):\n",
    "            g.add_edge(src, tgt, weight=1)\n",
    "        else:\n",
    "            g[src][tgt]['weight'] += 1\n",
    "\n",
    "    return g\n",
    "\n",
    "\n",
    "def overlap_graph(g1, g2):\n",
    "    common_edges = 0\n",
    "    for u, v in g1.edges_iter():\n",
    "        if g2.has_edge(u, v):\n",
    "            common_edges += 1\n",
    "\n",
    "    res = common_edges * 100 / float(nx.number_of_edges(g1))\n",
    "    print 'Percentage of overlap (', g1.name, ',', g2.name, '):', res\n",
    "    print 'Number of common edges:', common_edges\n",
    "    return res, common_edges\n",
    "\n",
    "\n",
    "def parse_activity(path, reverse=True):\n",
    "    \"\"\"if reverse is True. edges to keep the causality from cause to effet\"\"\"\n",
    "    names = ['src_id', 'tgt_id', 'timestamp', 'action']\n",
    "    if reverse:\n",
    "        names = ['tgt_id', 'src_id', 'timestamp', 'action']\n",
    "        \n",
    "    df = pd.read_csv(path, sep=' ', header=None, names=names,\n",
    "                     dtype={'src_id': np.int64, 'tgt_id': np.int64, 'timestamp': np.int64, 'action': str},\n",
    "                     index_col=2)\n",
    "    \n",
    "    df['action'] = df['action'].astype(str)\n",
    "    df.index = df.index.astype('datetime64[s]')\n",
    "    df.index.name = 'timestamp'\n",
    "    return df"
   ]
  },
  {
   "cell_type": "markdown",
   "metadata": {},
   "source": [
    "## Parse data"
   ]
  },
  {
   "cell_type": "markdown",
   "metadata": {},
   "source": [
    "### Parse retweet graph"
   ]
  },
  {
   "cell_type": "code",
   "execution_count": null,
   "metadata": {
    "collapsed": false
   },
   "outputs": [],
   "source": [
    "start = time.time()\n",
    "# path = os.path.join(DATA_DIR, 'HiggsDiscovery_RT.edges.gz')\n",
    "# RETWEET = nx.read_edgelist(path, create_using=nx.DiGraph(),\n",
    "#                            nodetype=int, data=(('weight', int),))\n",
    "# RETWEET.name = 'Higgs RT'\n",
    "# nx.write_gpickle(RETWEET, os.path.join(DATA_DIR, 'retweet.gpickle'))\n",
    "RETWEET = nx.read_gpickle(os.path.join(DATA_DIR, 'retweet.gpickle'))\n",
    "print 'Retweet graph loaded in:', time.time() - start\n",
    "print nx.info(RETWEET)"
   ]
  },
  {
   "cell_type": "markdown",
   "metadata": {},
   "source": [
    "### Parse mention graph    "
   ]
  },
  {
   "cell_type": "code",
   "execution_count": null,
   "metadata": {
    "collapsed": false
   },
   "outputs": [],
   "source": [
    "start = time.time()\n",
    "# MENTION = nx.read_edgelist(os.path.join(DATA_DIR, 'HiggsDiscovery_MT.edges.gz'), \n",
    "#                            create_using=nx.DiGraph(), nodetype=int, data=(('weight', int),))\n",
    "# MENTION.name = 'Higgs MT'\n",
    "# nx.write_gpickle(MENTION, os.path.join(DATA_DIR, 'mention.gpickle'))\n",
    "\n",
    "MENTION = nx.read_gpickle(os.path.join(DATA_DIR, 'mention.gpickle'))\n",
    "print 'Mention graph loaded in:', time.time() - start\n",
    "print nx.info(MENTION)"
   ]
  },
  {
   "cell_type": "markdown",
   "metadata": {},
   "source": [
    "### Parse reply graph"
   ]
  },
  {
   "cell_type": "code",
   "execution_count": null,
   "metadata": {
    "collapsed": false
   },
   "outputs": [],
   "source": [
    "start = time.time()\n",
    "# REPLY = nx.read_edgelist(os.path.join(DATA_DIR, 'HiggsDiscovery_RE.edges.gz'),\n",
    "#                          create_using=nx.DiGraph(), nodetype=int, data=(('weight', int),))\n",
    "# REPLY.name = 'Higgs RE'\n",
    "# nx.write_gpickle(REPLY, os.path.join(DATA_DIR, 'reply.gpickle'))\n",
    "\n",
    "REPLY = nx.read_gpickle(os.path.join(DATA_DIR, 'reply.gpickle'))\n",
    "print 'Reply graph loaded in:', time.time() - start\n",
    "print nx.info(REPLY)"
   ]
  },
  {
   "cell_type": "markdown",
   "metadata": {},
   "source": [
    "### Parse social network (follower network)"
   ]
  },
  {
   "cell_type": "code",
   "execution_count": null,
   "metadata": {
    "collapsed": false
   },
   "outputs": [],
   "source": [
    "start = time.time()\n",
    "# SOCIAL = nx.read_edgelist(os.path.join(DATA_DIR, 'HiggsDiscovery_social.edges.gz'),\n",
    "#                           create_using=nx.DiGraph(), nodetype=int, )\n",
    "# SOCIAL.name = 'Higgs SOCIAL'\n",
    "# nx.write_gpickle(SOCIAL, os.path.join(DATA_DIR, 'social.gpickle'))\n",
    "\n",
    "SOCIAL = nx.read_gpickle(os.path.join(DATA_DIR, 'social.gpickle'))\n",
    "print 'Social graph loaded in:', time.time() - start\n",
    "print nx.info(SOCIAL)"
   ]
  },
  {
   "cell_type": "code",
   "execution_count": 4,
   "metadata": {
    "collapsed": false
   },
   "outputs": [
    {
     "name": "stdout",
     "output_type": "stream",
     "text": [
      "Social reversed graph loaded in: 86.8898489475\n",
      "Name: Higgs SOCIAL reversed\n",
      "Type: DiGraph\n",
      "Number of nodes: 456626\n",
      "Number of edges: 14855842\n",
      "Average in degree:  32.5339\n",
      "Average out degree:  32.5339\n"
     ]
    }
   ],
   "source": [
    "start = time.time()\n",
    "# SOCIAL_RE = nx.reverse(SOCIAL)\n",
    "# SOCIAL_RE.name = 'Higgs SOCIAL reversed'\n",
    "# nx.write_gpickle(SOCIAL_RE, os.path.join(DATA_DIR, 'social_re.gpickle'))\n",
    "SOCIAL_RE = nx.read_gpickle(os.path.join(DATA_DIR, 'social_re.gpickle'))\n",
    "print 'Social reversed graph loaded in:', time.time() - start\n",
    "print nx.info(SOCIAL_RE)"
   ]
  },
  {
   "cell_type": "markdown",
   "metadata": {},
   "source": [
    "## Analysis\n",
    "\n",
    "\n",
    "- Period I: Before the announcement on 2nd July, there were some rumors about the discovery of a Higgs-like boson at Tevatron;\n",
    "\n",
    "\n",
    "- Period II: On 2nd July at 1 PM GMT, scientists from CDF and D0 experiments, based at Tevatron, presented results indicating that the Higgs particle should have a mass between 115 and 135 GeV/c2 (corresponding to about 123-144 times the mass of the proton) [7];\n",
    "\n",
    "\n",
    "- Period III: After 2nd July and before 4th of July there were many rumors about the Higgs boson dis- covery at LHC [8];\n",
    "\n",
    "\n",
    "- Period IV: The main event was the announce- ment on 4th July at 8 AM GMT by the scientists from the ATLAS and CMS experiments, based at CERN, presenting results indicating the existence of a new particle, compatible with the Higgs bo- son, with mass around 125 GeV/c2 [9, 10]. After 4th July, popular media covered the event."
   ]
  },
  {
   "cell_type": "markdown",
   "metadata": {},
   "source": [
    "### Extract causal multilayer graph activated components\n",
    "\n",
    "The graph is already given by the activity. Thus we don't use our framework is this special case."
   ]
  },
  {
   "cell_type": "code",
   "execution_count": 5,
   "metadata": {
    "collapsed": false
   },
   "outputs": [],
   "source": [
    "ACTIVITY = parse_activity(os.path.join(DATA_DIR, 'HiggsDiscovery_multiplex_time.txt'), reverse=True)\n",
    "# COMPS = create_activated_components(ACTIVITY, 10, 'min', 'RT', SOCIAL_RE)"
   ]
  },
  {
   "cell_type": "markdown",
   "metadata": {},
   "source": [
    "### Filter components and extract global statistics"
   ]
  },
  {
   "cell_type": "code",
   "execution_count": null,
   "metadata": {
    "collapsed": false
   },
   "outputs": [],
   "source": [
    "FILT_COMPS = COMPS[COMPS['node_count'] > 20]  # filter too small components\n",
    "C = FILT_COMPS.set_index('start', drop=False).sort_index()\n",
    "# Resample do get statistics (averages the values)\n",
    "C.resample('12H')"
   ]
  },
  {
   "cell_type": "code",
   "execution_count": null,
   "metadata": {
    "collapsed": false
   },
   "outputs": [],
   "source": [
    "fig = plot_spatial_spread(FILT_COMPS.iloc[0]['component'])\n",
    "show(fig)"
   ]
  },
  {
   "cell_type": "markdown",
   "metadata": {},
   "source": [
    "### Create \"classic\" causal multilayer with our framework\n"
   ]
  },
  {
   "cell_type": "code",
   "execution_count": 19,
   "metadata": {
    "collapsed": false
   },
   "outputs": [],
   "source": [
    "def create_signal(input_df, freq=1, unit='min', action='RT', subset=None):\n",
    "    df = input_df.copy()\n",
    "    if action != '' and action is not None:\n",
    "        df = df[df['action'] == action]\n",
    "        \n",
    "    df, unit = round_df(df, freq, unit)\n",
    "    df, delta_ts = create_layers(df, freq, unit)\n",
    "    df.reset_index(drop=False, inplace=True)\n",
    "\n",
    "    res = None\n",
    "    if subset is None:\n",
    "        src_df = df[['src_id', 'layer', 'timestamp']].rename(columns = {'src_id':'base_id'})\n",
    "        tgt_df = df[['tgt_id', 'layer', 'timestamp']].rename(columns = {'tgt_id':'base_id'})\n",
    "\n",
    "        tgt_df['layer'] = tgt_df['layer'].apply(lambda x: x + 1)\n",
    "        tgt_df['timestamp'] = tgt_df['timestamp'].apply(lambda x: x + delta_ts)\n",
    "\n",
    "        res = pd.concat([src_df, tgt_df], ignore_index=True) \\\n",
    "                    .sort('layer').reset_index(drop=True).drop_duplicates()\n",
    "    \n",
    "    else:\n",
    "        subset_df = df[[subset, 'layer', 'timestamp']].rename(columns = {subset: 'base_id'})\n",
    "        res = subset_df.sort('layer').reset_index(drop=True).drop_duplicates()\n",
    "    \n",
    "    return res\n",
    "\n",
    "\n",
    "def get_period_span_gl(df, signal):\n",
    "    \n",
    "    def impl(row):\n",
    "        min_layer = layer_to_ts[np.min(row)]\n",
    "        max_layer = layer_to_ts[np.max(row)]\n",
    "        return [min_layer, max_layer]\n",
    "    \n",
    "    layer_to_ts = dict(signal[['layer', 'timestamp']].values)\n",
    "    \n",
    "    period_series = df['layers'].apply(impl)\n",
    "    df['start'] = period_series.apply(lambda x: x[0])\n",
    "    df['end'] = period_series.apply(lambda x: x[1])\n",
    "    return df\n",
    "\n",
    "\n",
    "def extract_components_gl(signal, graph, create_self_edge=True):\n",
    "    node_signal = sptgraph.utils.from_pandas(signal)\n",
    "    h, max_id = sptgraph.create_spatio_temporal_graph(graph, node_signal, create_self_edge, 'base_id', 'layer')\n",
    "    h = sptgraph.find_connected_components(h)\n",
    "    comps = sptgraph.get_component_sframe(h, 'base_id', 'layer')\n",
    "    return get_period_span_gl(comps, signal), h, max_id"
   ]
  },
  {
   "cell_type": "code",
   "execution_count": 8,
   "metadata": {
    "collapsed": false
   },
   "outputs": [],
   "source": [
    "SOCIAL_GL_RE = sptgraph.utils.networkx_to_graphlab(SOCIAL_RE)"
   ]
  },
  {
   "cell_type": "markdown",
   "metadata": {},
   "source": [
    "## First scale 10 min RT\n"
   ]
  },
  {
   "cell_type": "markdown",
   "metadata": {},
   "source": [
    "#### Using only tgt_id as activation"
   ]
  },
  {
   "cell_type": "code",
   "execution_count": 20,
   "metadata": {
    "collapsed": false
   },
   "outputs": [
    {
     "name": "stdout",
     "output_type": "stream",
     "text": [
      "Create spatio-temporal graph\n",
      "Create node signal\n",
      "Create node signal done in: 2.12166500092 seconds\n",
      "Create signal graph\n",
      "Create signal graph done in: 27.1102449894 seconds\n",
      "Create spatio-temporal graph done in: 63.8228449821 seconds\n"
     ]
    }
   ],
   "source": [
    "signal_10min_rt_tgt = create_signal(ACTIVITY, 10, 'min', 'RT', subset='tgt_id')\n",
    "gl_comps_10min_rt_tgt, H, max_id = extract_components_gl(signal_10min_rt_tgt, SOCIAL_GL_RE)\n",
    "layer_to_ts = dict(signal_10min_rt_tgt[['layer', 'timestamp']].values)"
   ]
  },
  {
   "cell_type": "code",
   "execution_count": 21,
   "metadata": {
    "collapsed": false
   },
   "outputs": [
    {
     "data": {
      "text/html": [
       "<div style=\"max-height:1000px;max-width:1500px;overflow:auto;\"><table frame=\"box\" rules=\"cols\">\n",
       "    <tr>\n",
       "        <th style=\"padding-left: 1em; padding-right: 1em; text-align: center\">component_id</th>\n",
       "        <th style=\"padding-left: 1em; padding-right: 1em; text-align: center\">node_count</th>\n",
       "        <th style=\"padding-left: 1em; padding-right: 1em; text-align: center\">width</th>\n",
       "        <th style=\"padding-left: 1em; padding-right: 1em; text-align: center\">height</th>\n",
       "        <th style=\"padding-left: 1em; padding-right: 1em; text-align: center\">start</th>\n",
       "        <th style=\"padding-left: 1em; padding-right: 1em; text-align: center\">end</th>\n",
       "    </tr>\n",
       "    <tr>\n",
       "        <td style=\"padding-left: 1em; padding-right: 1em; text-align: center; vertical-align: top\">650</td>\n",
       "        <td style=\"padding-left: 1em; padding-right: 1em; text-align: center; vertical-align: top\">55037</td>\n",
       "        <td style=\"padding-left: 1em; padding-right: 1em; text-align: center; vertical-align: top\">108</td>\n",
       "        <td style=\"padding-left: 1em; padding-right: 1em; text-align: center; vertical-align: top\">36800</td>\n",
       "        <td style=\"padding-left: 1em; padding-right: 1em; text-align: center; vertical-align: top\">2012-07-04 03:10:00+00:00</td>\n",
       "        <td style=\"padding-left: 1em; padding-right: 1em; text-align: center; vertical-align: top\">2012-07-04 21:00:00+00:00</td>\n",
       "    </tr>\n",
       "    <tr>\n",
       "        <td style=\"padding-left: 1em; padding-right: 1em; text-align: center; vertical-align: top\">483</td>\n",
       "        <td style=\"padding-left: 1em; padding-right: 1em; text-align: center; vertical-align: top\">357</td>\n",
       "        <td style=\"padding-left: 1em; padding-right: 1em; text-align: center; vertical-align: top\">15</td>\n",
       "        <td style=\"padding-left: 1em; padding-right: 1em; text-align: center; vertical-align: top\">324</td>\n",
       "        <td style=\"padding-left: 1em; padding-right: 1em; text-align: center; vertical-align: top\">2012-07-03 17:40:00+00:00</td>\n",
       "        <td style=\"padding-left: 1em; padding-right: 1em; text-align: center; vertical-align: top\">2012-07-03 20:00:00+00:00</td>\n",
       "    </tr>\n",
       "    <tr>\n",
       "        <td style=\"padding-left: 1em; padding-right: 1em; text-align: center; vertical-align: top\">9736</td>\n",
       "        <td style=\"padding-left: 1em; padding-right: 1em; text-align: center; vertical-align: top\">299</td>\n",
       "        <td style=\"padding-left: 1em; padding-right: 1em; text-align: center; vertical-align: top\">12</td>\n",
       "        <td style=\"padding-left: 1em; padding-right: 1em; text-align: center; vertical-align: top\">277</td>\n",
       "        <td style=\"padding-left: 1em; padding-right: 1em; text-align: center; vertical-align: top\">2012-07-05 11:30:00+00:00</td>\n",
       "        <td style=\"padding-left: 1em; padding-right: 1em; text-align: center; vertical-align: top\">2012-07-05 13:20:00+00:00</td>\n",
       "    </tr>\n",
       "    <tr>\n",
       "        <td style=\"padding-left: 1em; padding-right: 1em; text-align: center; vertical-align: top\">9398</td>\n",
       "        <td style=\"padding-left: 1em; padding-right: 1em; text-align: center; vertical-align: top\">254</td>\n",
       "        <td style=\"padding-left: 1em; padding-right: 1em; text-align: center; vertical-align: top\">12</td>\n",
       "        <td style=\"padding-left: 1em; padding-right: 1em; text-align: center; vertical-align: top\">231</td>\n",
       "        <td style=\"padding-left: 1em; padding-right: 1em; text-align: center; vertical-align: top\">2012-07-05 05:00:00+00:00</td>\n",
       "        <td style=\"padding-left: 1em; padding-right: 1em; text-align: center; vertical-align: top\">2012-07-05 06:50:00+00:00</td>\n",
       "    </tr>\n",
       "    <tr>\n",
       "        <td style=\"padding-left: 1em; padding-right: 1em; text-align: center; vertical-align: top\">9113</td>\n",
       "        <td style=\"padding-left: 1em; padding-right: 1em; text-align: center; vertical-align: top\">244</td>\n",
       "        <td style=\"padding-left: 1em; padding-right: 1em; text-align: center; vertical-align: top\">9</td>\n",
       "        <td style=\"padding-left: 1em; padding-right: 1em; text-align: center; vertical-align: top\">235</td>\n",
       "        <td style=\"padding-left: 1em; padding-right: 1em; text-align: center; vertical-align: top\">2012-07-05 00:00:00+00:00</td>\n",
       "        <td style=\"padding-left: 1em; padding-right: 1em; text-align: center; vertical-align: top\">2012-07-05 01:20:00+00:00</td>\n",
       "    </tr>\n",
       "    <tr>\n",
       "        <td style=\"padding-left: 1em; padding-right: 1em; text-align: center; vertical-align: top\">138</td>\n",
       "        <td style=\"padding-left: 1em; padding-right: 1em; text-align: center; vertical-align: top\">232</td>\n",
       "        <td style=\"padding-left: 1em; padding-right: 1em; text-align: center; vertical-align: top\">12</td>\n",
       "        <td style=\"padding-left: 1em; padding-right: 1em; text-align: center; vertical-align: top\">212</td>\n",
       "        <td style=\"padding-left: 1em; padding-right: 1em; text-align: center; vertical-align: top\">2012-07-02 16:20:00+00:00</td>\n",
       "        <td style=\"padding-left: 1em; padding-right: 1em; text-align: center; vertical-align: top\">2012-07-02 18:10:00+00:00</td>\n",
       "    </tr>\n",
       "    <tr>\n",
       "        <td style=\"padding-left: 1em; padding-right: 1em; text-align: center; vertical-align: top\">551</td>\n",
       "        <td style=\"padding-left: 1em; padding-right: 1em; text-align: center; vertical-align: top\">200</td>\n",
       "        <td style=\"padding-left: 1em; padding-right: 1em; text-align: center; vertical-align: top\">14</td>\n",
       "        <td style=\"padding-left: 1em; padding-right: 1em; text-align: center; vertical-align: top\">163</td>\n",
       "        <td style=\"padding-left: 1em; padding-right: 1em; text-align: center; vertical-align: top\">2012-07-03 21:00:00+00:00</td>\n",
       "        <td style=\"padding-left: 1em; padding-right: 1em; text-align: center; vertical-align: top\">2012-07-03 23:10:00+00:00</td>\n",
       "    </tr>\n",
       "    <tr>\n",
       "        <td style=\"padding-left: 1em; padding-right: 1em; text-align: center; vertical-align: top\">7705</td>\n",
       "        <td style=\"padding-left: 1em; padding-right: 1em; text-align: center; vertical-align: top\">169</td>\n",
       "        <td style=\"padding-left: 1em; padding-right: 1em; text-align: center; vertical-align: top\">5</td>\n",
       "        <td style=\"padding-left: 1em; padding-right: 1em; text-align: center; vertical-align: top\">107</td>\n",
       "        <td style=\"padding-left: 1em; padding-right: 1em; text-align: center; vertical-align: top\">2012-07-04 14:40:00+00:00</td>\n",
       "        <td style=\"padding-left: 1em; padding-right: 1em; text-align: center; vertical-align: top\">2012-07-04 15:20:00+00:00</td>\n",
       "    </tr>\n",
       "    <tr>\n",
       "        <td style=\"padding-left: 1em; padding-right: 1em; text-align: center; vertical-align: top\">9688</td>\n",
       "        <td style=\"padding-left: 1em; padding-right: 1em; text-align: center; vertical-align: top\">166</td>\n",
       "        <td style=\"padding-left: 1em; padding-right: 1em; text-align: center; vertical-align: top\">9</td>\n",
       "        <td style=\"padding-left: 1em; padding-right: 1em; text-align: center; vertical-align: top\">160</td>\n",
       "        <td style=\"padding-left: 1em; padding-right: 1em; text-align: center; vertical-align: top\">2012-07-05 10:30:00+00:00</td>\n",
       "        <td style=\"padding-left: 1em; padding-right: 1em; text-align: center; vertical-align: top\">2012-07-05 11:50:00+00:00</td>\n",
       "    </tr>\n",
       "    <tr>\n",
       "        <td style=\"padding-left: 1em; padding-right: 1em; text-align: center; vertical-align: top\">8932</td>\n",
       "        <td style=\"padding-left: 1em; padding-right: 1em; text-align: center; vertical-align: top\">142</td>\n",
       "        <td style=\"padding-left: 1em; padding-right: 1em; text-align: center; vertical-align: top\">9</td>\n",
       "        <td style=\"padding-left: 1em; padding-right: 1em; text-align: center; vertical-align: top\">128</td>\n",
       "        <td style=\"padding-left: 1em; padding-right: 1em; text-align: center; vertical-align: top\">2012-07-04 20:50:00+00:00</td>\n",
       "        <td style=\"padding-left: 1em; padding-right: 1em; text-align: center; vertical-align: top\">2012-07-04 22:10:00+00:00</td>\n",
       "    </tr>\n",
       "    <tr>\n",
       "        <td style=\"padding-left: 1em; padding-right: 1em; text-align: center; vertical-align: top\">...</td>\n",
       "        <td style=\"padding-left: 1em; padding-right: 1em; text-align: center; vertical-align: top\">...</td>\n",
       "        <td style=\"padding-left: 1em; padding-right: 1em; text-align: center; vertical-align: top\">...</td>\n",
       "        <td style=\"padding-left: 1em; padding-right: 1em; text-align: center; vertical-align: top\">...</td>\n",
       "        <td style=\"padding-left: 1em; padding-right: 1em; text-align: center; vertical-align: top\">...</td>\n",
       "        <td style=\"padding-left: 1em; padding-right: 1em; text-align: center; vertical-align: top\">...</td>\n",
       "    </tr>\n",
       "</table>\n",
       "[14006 rows x 6 columns]<br/>Note: Only the head of the SFrame is printed.<br/>You can use print_rows(num_rows=m, num_columns=n) to print more rows and columns.\n",
       "</div>"
      ],
      "text/plain": [
       "Columns:\n",
       "\tcomponent_id\tint\n",
       "\tnode_count\tint\n",
       "\twidth\tint\n",
       "\theight\tint\n",
       "\tstart\tdatetime\n",
       "\tend\tdatetime\n",
       "\n",
       "Rows: 14006\n",
       "\n",
       "Data:\n",
       "+--------------+------------+-------+--------+---------------------------+\n",
       "| component_id | node_count | width | height |           start           |\n",
       "+--------------+------------+-------+--------+---------------------------+\n",
       "|     650      |   55037    |  108  | 36800  | 2012-07-04 03:10:00+00:00 |\n",
       "|     483      |    357     |   15  |  324   | 2012-07-03 17:40:00+00:00 |\n",
       "|     9736     |    299     |   12  |  277   | 2012-07-05 11:30:00+00:00 |\n",
       "|     9398     |    254     |   12  |  231   | 2012-07-05 05:00:00+00:00 |\n",
       "|     9113     |    244     |   9   |  235   | 2012-07-05 00:00:00+00:00 |\n",
       "|     138      |    232     |   12  |  212   | 2012-07-02 16:20:00+00:00 |\n",
       "|     551      |    200     |   14  |  163   | 2012-07-03 21:00:00+00:00 |\n",
       "|     7705     |    169     |   5   |  107   | 2012-07-04 14:40:00+00:00 |\n",
       "|     9688     |    166     |   9   |  160   | 2012-07-05 10:30:00+00:00 |\n",
       "|     8932     |    142     |   9   |  128   | 2012-07-04 20:50:00+00:00 |\n",
       "+--------------+------------+-------+--------+---------------------------+\n",
       "+---------------------------+\n",
       "|            end            |\n",
       "+---------------------------+\n",
       "| 2012-07-04 21:00:00+00:00 |\n",
       "| 2012-07-03 20:00:00+00:00 |\n",
       "| 2012-07-05 13:20:00+00:00 |\n",
       "| 2012-07-05 06:50:00+00:00 |\n",
       "| 2012-07-05 01:20:00+00:00 |\n",
       "| 2012-07-02 18:10:00+00:00 |\n",
       "| 2012-07-03 23:10:00+00:00 |\n",
       "| 2012-07-04 15:20:00+00:00 |\n",
       "| 2012-07-05 11:50:00+00:00 |\n",
       "| 2012-07-04 22:10:00+00:00 |\n",
       "|            ...            |\n",
       "+---------------------------+\n",
       "[14006 rows x 6 columns]\n",
       "Note: Only the head of the SFrame is printed.\n",
       "You can use print_rows(num_rows=m, num_columns=n) to print more rows and columns."
      ]
     },
     "execution_count": 21,
     "metadata": {},
     "output_type": "execute_result"
    }
   ],
   "source": [
    "gl_comps_10min_rt_tgt[['component_id', 'node_count', 'width', 'height', 'start', 'end']]"
   ]
  },
  {
   "cell_type": "markdown",
   "metadata": {},
   "source": [
    "### Plot spatial spread of biggest component trough time"
   ]
  },
  {
   "cell_type": "code",
   "execution_count": 11,
   "metadata": {
    "collapsed": false
   },
   "outputs": [],
   "source": [
    "big_comp = gl_comps_10min_rt_tgt[0]"
   ]
  },
  {
   "cell_type": "code",
   "execution_count": 22,
   "metadata": {
    "collapsed": false
   },
   "outputs": [],
   "source": [
    "def plot_component_spatial_spread(comp, layer_to_ts, size=(10, 10), savepath=None):\n",
    "    hist = Counter(sorted(big_comp['layers']))\n",
    "    x, y = zip(*sorted(hist.items(), key=operator.itemgetter(0)))\n",
    "    \n",
    "    comp_time = map(lambda t: (t, layer_to_ts[t]), x) \n",
    "    # Get xticks by hour\n",
    "    xticks, labels = zip(*[(k, v.strftime('%H-%M')) for (k, v) in comp_time if v.minute == 0])\n",
    "\n",
    "    fig = plt.figure(0)\n",
    "    fig.set_size_inches(size)\n",
    "    ax = plt.plot(x, y)\n",
    "    plt.xticks(xticks, labels, rotation=45)\n",
    "    \n",
    "    plt.xlabel('Time')\n",
    "    plt.ylabel('Number of retweets')\n",
    "    plt.title('Spatial spread of component {}'.format(comp['component_id']))\n",
    "    plt.show()\n",
    "\n",
    "# plot_component_spatial_spread(big_comp, layer_to_ts)"
   ]
  },
  {
   "cell_type": "markdown",
   "metadata": {},
   "source": [
    "## Extract the biggest component subgraph for further analysis"
   ]
  },
  {
   "cell_type": "code",
   "execution_count": 92,
   "metadata": {
    "collapsed": false
   },
   "outputs": [
    {
     "name": "stdout",
     "output_type": "stream",
     "text": [
      "Name: Component 650\n",
      "Type: DiGraph\n",
      "Number of nodes: 55037\n",
      "Number of edges: 106895\n",
      "Average in degree:   1.9422\n",
      "Average out degree:   1.9422\n"
     ]
    }
   ],
   "source": [
    "g = sptgraph.component_to_networkx(big_comp, H, layer_to_ts)\n",
    "print nx.info(g)"
   ]
  },
  {
   "cell_type": "code",
   "execution_count": 80,
   "metadata": {
    "collapsed": false
   },
   "outputs": [],
   "source": [
    "g_un = g.to_undirected()\n",
    "partition = community.best_partition(g_un)"
   ]
  },
  {
   "cell_type": "code",
   "execution_count": 81,
   "metadata": {
    "collapsed": false
   },
   "outputs": [
    {
     "name": "stdout",
     "output_type": "stream",
     "text": [
      "Number of communities: 166\n"
     ]
    }
   ],
   "source": [
    "print 'Number of communities:', len(set(partition.values()))"
   ]
  },
  {
   "cell_type": "code",
   "execution_count": 82,
   "metadata": {
    "collapsed": false
   },
   "outputs": [
    {
     "name": "stdout",
     "output_type": "stream",
     "text": [
      "Modularity: 0.829348352906\n"
     ]
    }
   ],
   "source": [
    "print 'Modularity:', community.modularity(partition, g_un)"
   ]
  },
  {
   "cell_type": "markdown",
   "metadata": {},
   "source": [
    "### Export component from plotting using Gephi"
   ]
  },
  {
   "cell_type": "code",
   "execution_count": 93,
   "metadata": {
    "collapsed": true
   },
   "outputs": [],
   "source": [
    "path = os.path.join(DATA_DIR, g.name)\n",
    "# nx.write_edgelist(g, path + '.csv', data=False)\n",
    "nx.write_graphml(g, path + '.graphml')"
   ]
  },
  {
   "cell_type": "markdown",
   "metadata": {},
   "source": [
    "### Another scale 1min RT"
   ]
  },
  {
   "cell_type": "markdown",
   "metadata": {},
   "source": [
    "#### Using only tgt_id"
   ]
  },
  {
   "cell_type": "code",
   "execution_count": null,
   "metadata": {
    "collapsed": false
   },
   "outputs": [],
   "source": [
    "signal_1min_rt_tgt = create_signal(ACTIVITY, 1, 'min', 'RT', subset='tgt_id')\n",
    "gl_comps_1min_rt_tgt = extract_components_gl(signal_1min_rt_tgt, SOCIAL_GL_RE)"
   ]
  },
  {
   "cell_type": "code",
   "execution_count": null,
   "metadata": {
    "collapsed": false
   },
   "outputs": [],
   "source": [
    "gl_comps_1min_rt_tgt[['component_id', 'node_count', 'width', 'height', 'start', 'end']]"
   ]
  },
  {
   "cell_type": "markdown",
   "metadata": {},
   "source": [
    "### Overlap between retweet and social network"
   ]
  },
  {
   "cell_type": "code",
   "execution_count": null,
   "metadata": {
    "collapsed": false
   },
   "outputs": [],
   "source": [
    "def overlap_graph(g1, g2):\n",
    "    common_edges = 0\n",
    "    for u, v in g1.edges_iter():\n",
    "        if g2.has_edge(u, v):\n",
    "            common_edges += 1\n",
    "\n",
    "    res = common_edges * 100 / float(nx.number_of_edges(g1))\n",
    "    print 'Percentage of overlap (', g1.name, ',', g2.name, '):', res\n",
    "    print 'Number of common edges:', common_edges\n",
    "    return res, common_edges\n",
    "\n",
    "# overlap_graph(REPLY, SOCIAL)\n",
    "overlap_graph(RETWEET, SOCIAL)\n",
    "# overlap_graph(MENTION, SOCIAL)"
   ]
  }
 ],
 "metadata": {
  "kernelspec": {
   "display_name": "Python 2",
   "language": "python",
   "name": "python2"
  },
  "language_info": {
   "codemirror_mode": {
    "name": "ipython",
    "version": 2
   },
   "file_extension": ".py",
   "mimetype": "text/x-python",
   "name": "python",
   "nbconvert_exporter": "python",
   "pygments_lexer": "ipython2",
   "version": "2.7.9"
  }
 },
 "nbformat": 4,
 "nbformat_minor": 0
}
