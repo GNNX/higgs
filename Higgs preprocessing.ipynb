{
 "cells": [
  {
   "cell_type": "markdown",
   "metadata": {},
   "source": [
    "## Higgs dataset preprocessing\n",
    "\n",
    "From the paper:\n",
    "\n",
    "[M. De Domenico, A. Lima, P. Mougel and M. Musolesi. The Anatomy of a Scientific Rumor. (Nature Open Access) Scientific Reports 3, 2980 (2013).](http://www.nature.com/srep/2013/131018/srep02980/full/srep02980.html)\n",
    "\n"
   ]
  },
  {
   "cell_type": "code",
   "execution_count": 1,
   "metadata": {
    "collapsed": false
   },
   "outputs": [
    {
     "name": "stdout",
     "output_type": "stream",
     "text": [
      "Data directory: /Users/kikohs/local/higgs/\n"
     ]
    }
   ],
   "source": [
    "import os\n",
    "import time\n",
    "import numpy as np\n",
    "import scipy as sp\n",
    "import pandas as pd\n",
    "import networkx as nx\n",
    "import matplotlib as mpl\n",
    "import matplotlib.pyplot as plt\n",
    "import datetime as dt\n",
    "\n",
    "\n",
    "# Customize plot colors for dark backgrounds\n",
    "%matplotlib inline\n",
    "mpl.rcParams['axes.edgecolor'] = 'grey'\n",
    "mpl.rcParams['grid.color'] = '#66CCCC'\n",
    "mpl.rcParams['text.color'] = '#0EBFE9'\n",
    "mpl.rcParams['xtick.color'] = '#66CCCC'\n",
    "mpl.rcParams['ytick.color'] = '#66CCCC'\n",
    "mpl.rcParams['axes.labelcolor'] = '#0EBFE9'\n",
    "\n",
    "import IPython.utils.path\n",
    "DATA_DIR = os.path.join(IPython.utils.path.get_home_dir(), 'local/higgs/')\n",
    "print 'Data directory:', DATA_DIR\n",
    "dataset_name = 'higgs'\n",
    "\n",
    "%load_ext autoreload\n",
    "%autoreload 2"
   ]
  },
  {
   "cell_type": "markdown",
   "metadata": {},
   "source": [
    "## Parse data"
   ]
  },
  {
   "cell_type": "markdown",
   "metadata": {},
   "source": [
    "### Parse activity"
   ]
  },
  {
   "cell_type": "code",
   "execution_count": null,
   "metadata": {
    "collapsed": true
   },
   "outputs": [],
   "source": [
    "def create_graph_from_activity(activity_df, action='RT'):\n",
    "    g = nx.DiGraph()\n",
    "    df = activity_df[activity_df['action'] == action]\n",
    "    g.name = 'Higgs ' + action\n",
    "    for idx, d in df.iterrows():\n",
    "        src = d['src_id']\n",
    "        tgt = d['tgt_id']\n",
    "        if not g.has_edge(src, tgt):\n",
    "            g.add_edge(src, tgt, weight=1)\n",
    "        else:\n",
    "            g[src][tgt]['weight'] += 1\n",
    "\n",
    "    return g\n",
    "\n",
    "ACTIVITY = pd.read_csv(os.path.join(DATA_DIR, 'HiggsDiscovery_multiplex_time.txt'), \n",
    "                       sep=' ', header=None, names=['src_id', 'tgt_id', 'timestamp', 'action'],\n",
    "                       dtype={'src_id': np.int64, 'tgt_id': np.int64, 'timestamp': np.int64, 'action': str},\n",
    "                       index_col=2)\n",
    "\n",
    "ACTIVITY['action'] = ACTIVITY['action'].astype(str)\n",
    "ACTIVITY.index = pd.to_datetime(ACTIVITY.index.values * 1e9)\n",
    "# G = create_graph_from_activity(ACTIVITY, 'RT')\n",
    "# print nx.info(G)"
   ]
  },
  {
   "cell_type": "code",
   "execution_count": 29,
   "metadata": {
    "collapsed": false
   },
   "outputs": [
    {
     "name": "stdout",
     "output_type": "stream",
     "text": [
      "Name: Higgs RE\n",
      "Type: DiGraph\n",
      "Number of nodes: 39940\n",
      "Number of edges: 33728\n",
      "Average in degree:   0.8445\n",
      "Average out degree:   0.8445\n"
     ]
    }
   ],
   "source": [
    "G = create_graph_from_activity(ACTIVITY, 'RE')\n",
    "print nx.info(G)"
   ]
  },
  {
   "cell_type": "markdown",
   "metadata": {},
   "source": [
    "### Parse retweet graph"
   ]
  },
  {
   "cell_type": "code",
   "execution_count": 3,
   "metadata": {
    "collapsed": false
   },
   "outputs": [
    {
     "name": "stdout",
     "output_type": "stream",
     "text": [
      "Retweet graph loaded in: 9.10212087631\n",
      "Name: Higgs RT\n",
      "Type: DiGraph\n",
      "Number of nodes: 257827\n",
      "Number of edges: 334208\n",
      "Average in degree:   1.2962\n",
      "Average out degree:   1.2962\n"
     ]
    }
   ],
   "source": [
    "start = time.time()\n",
    "# path = os.path.join(DATA_DIR, 'HiggsDiscovery_RT.edges.gz')\n",
    "# RETWEET = nx.read_edgelist(path, create_using=nx.DiGraph(),\n",
    "#                            nodetype=int, data=(('weight', int),))\n",
    "# RETWEET.name = 'Higgs RT'\n",
    "# nx.write_gpickle(RETWEET, os.path.join(DATA_DIR, 'retweet.gpickle'))\n",
    "RETWEET = nx.read_gpickle(os.path.join(DATA_DIR, 'retweet.gpickle'))\n",
    "print 'Retweet graph loaded in:', time.time() - start\n",
    "print nx.info(RETWEET)"
   ]
  },
  {
   "cell_type": "markdown",
   "metadata": {},
   "source": [
    "### Parse mention graph    "
   ]
  },
  {
   "cell_type": "code",
   "execution_count": 25,
   "metadata": {
    "collapsed": false
   },
   "outputs": [
    {
     "name": "stdout",
     "output_type": "stream",
     "text": [
      "Mention graph loaded in: 7.37287902832\n",
      "Name: Higgs MT\n",
      "Type: DiGraph\n",
      "Number of nodes: 118659\n",
      "Number of edges: 156371\n",
      "Average in degree:   1.3178\n",
      "Average out degree:   1.3178\n"
     ]
    }
   ],
   "source": [
    "start = time.time()\n",
    "# MENTION = nx.read_edgelist(os.path.join(DATA_DIR, 'HiggsDiscovery_MT.edges.gz'), \n",
    "#                            create_using=nx.DiGraph(), nodetype=int, data=(('weight', int),))\n",
    "# MENTION.name = 'Higgs MT'\n",
    "# nx.write_gpickle(MENTION, os.path.join(DATA_DIR, 'mention.gpickle'))\n",
    "\n",
    "MENTION = nx.read_gpickle(os.path.join(DATA_DIR, 'mention.gpickle'))\n",
    "print 'Mention graph loaded in:', time.time() - start\n",
    "print nx.info(MENTION)"
   ]
  },
  {
   "cell_type": "markdown",
   "metadata": {},
   "source": [
    "### Parse reply graph"
   ]
  },
  {
   "cell_type": "code",
   "execution_count": 28,
   "metadata": {
    "collapsed": false
   },
   "outputs": [
    {
     "name": "stdout",
     "output_type": "stream",
     "text": [
      "Reply graph loaded in: 1.68447113037\n",
      "Name: Higgs RE\n",
      "Type: DiGraph\n",
      "Number of nodes: 39940\n",
      "Number of edges: 33728\n",
      "Average in degree:   0.8445\n",
      "Average out degree:   0.8445\n"
     ]
    }
   ],
   "source": [
    "start = time.time()\n",
    "# REPLY = nx.read_edgelist(os.path.join(DATA_DIR, 'HiggsDiscovery_RE.edges.gz'),\n",
    "#                          create_using=nx.DiGraph(), nodetype=int, data=(('weight', int),))\n",
    "# REPLY.name = 'Higgs RE'\n",
    "# nx.write_gpickle(REPLY, os.path.join(DATA_DIR, 'reply.gpickle'))\n",
    "\n",
    "REPLY = nx.read_gpickle(os.path.join(DATA_DIR, 'reply.gpickle'))\n",
    "print 'Reply graph loaded in:', time.time() - start\n",
    "print nx.info(REPLY)"
   ]
  },
  {
   "cell_type": "markdown",
   "metadata": {},
   "source": [
    "### Parse social network (follower network)"
   ]
  },
  {
   "cell_type": "code",
   "execution_count": 2,
   "metadata": {
    "collapsed": false
   },
   "outputs": [
    {
     "name": "stdout",
     "output_type": "stream",
     "text": [
      "Social graph loaded in: 334.526389122\n",
      "Name: Higgs SOCIAL\n",
      "Type: DiGraph\n",
      "Number of nodes: 456626\n",
      "Number of edges: 14855842\n",
      "Average in degree:  32.5339\n",
      "Average out degree:  32.5339\n"
     ]
    }
   ],
   "source": [
    "start = time.time()\n",
    "SOCIAL = nx.read_edgelist(os.path.join(DATA_DIR, 'HiggsDiscovery_social.edges.gz'),\n",
    "                          create_using=nx.DiGraph(), nodetype=int, )\n",
    "SOCIAL.name = 'Higgs SOCIAL'\n",
    "nx.write_gpickle(SOCIAL, os.path.join(DATA_DIR, 'social.gpickle'))\n",
    "\n",
    "# SOCIAL = nx.read_gpickle(os.path.join(DATA_DIR, 'social.gpickle'))\n",
    "print 'Social graph loaded in:', time.time() - start\n",
    "print nx.info(SOCIAL)"
   ]
  },
  {
   "cell_type": "markdown",
   "metadata": {},
   "source": [
    "## Analysis"
   ]
  },
  {
   "cell_type": "markdown",
   "metadata": {},
   "source": [
    "### Overlap between retweet and social network"
   ]
  },
  {
   "cell_type": "code",
   "execution_count": 4,
   "metadata": {
    "collapsed": false
   },
   "outputs": [
    {
     "name": "stdout",
     "output_type": "stream",
     "text": [
      "Percentage of overlap ( Higgs RT , Higgs SOCIAL ): 59.1912820758\n",
      "Number of common edges: 197822\n"
     ]
    },
    {
     "data": {
      "text/plain": [
       "(59.191282075833016, 197822)"
      ]
     },
     "execution_count": 4,
     "metadata": {},
     "output_type": "execute_result"
    }
   ],
   "source": [
    "def overlap_graph(g1, g2):\n",
    "    common_edges = 0\n",
    "    for u, v in g1.edges_iter():\n",
    "        if g2.has_edge(u, v):\n",
    "            common_edges += 1\n",
    "\n",
    "    res = common_edges * 100 / float(nx.number_of_edges(g1))\n",
    "    print 'Percentage of overlap (', g1.name, ',', g2.name, '):', res\n",
    "    print 'Number of common edges:', common_edges\n",
    "    return res, common_edges\n",
    "\n",
    "# overlap_graph(REPLY, SOCIAL)\n",
    "overlap_graph(RETWEET, SOCIAL)\n",
    "# overlap_graph(MENTION, SOCIAL)"
   ]
  },
  {
   "cell_type": "code",
   "execution_count": null,
   "metadata": {
    "collapsed": true
   },
   "outputs": [],
   "source": []
  }
 ],
 "metadata": {
  "kernelspec": {
   "display_name": "Python 2",
   "language": "python",
   "name": "python2"
  },
  "language_info": {
   "codemirror_mode": {
    "name": "ipython",
    "version": 2
   },
   "file_extension": ".py",
   "mimetype": "text/x-python",
   "name": "python",
   "nbconvert_exporter": "python",
   "pygments_lexer": "ipython2",
   "version": "2.7.9"
  }
 },
 "nbformat": 4,
 "nbformat_minor": 0
}
